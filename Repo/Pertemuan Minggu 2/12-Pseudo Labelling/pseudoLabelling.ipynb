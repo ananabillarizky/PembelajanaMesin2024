{
 "cells": [
  {
   "cell_type": "code",
   "execution_count": 1,
   "metadata": {},
   "outputs": [],
   "source": [
    "import pandas as pd\n",
    "import numpy as np\n",
    "import matplotlib.pyplot as plt\n",
    "%matplotlib inline\n",
    "from sklearn.preprocessing import LabelEncoder "
   ]
  },
  {
   "cell_type": "code",
   "execution_count": 2,
   "metadata": {},
   "outputs": [],
   "source": [
    "train = pd.read_csv('train.csv')\n",
    "test = pd.read_csv('test.csv')"
   ]
  },
  {
   "cell_type": "code",
   "execution_count": 3,
   "metadata": {},
   "outputs": [
    {
     "name": "stderr",
     "output_type": "stream",
     "text": [
      "C:\\Users\\Ananabilla Rizky M\\AppData\\Local\\Temp\\ipykernel_13764\\1199015277.py:35: SettingWithCopyWarning: \n",
      "A value is trying to be set on a copy of a slice from a DataFrame\n",
      "\n",
      "See the caveats in the documentation: https://pandas.pydata.org/pandas-docs/stable/user_guide/indexing.html#returning-a-view-versus-a-copy\n",
      "  test.drop('Item_Outlet_Sales', axis=1, inplace=True)\n"
     ]
    }
   ],
   "source": [
    "# preprocessing\n",
    "\n",
    "### mean imputations \n",
    "train['Item_Weight'].fillna((train['Item_Weight'].mean()), inplace=True)\n",
    "test['Item_Weight'].fillna((test['Item_Weight'].mean()), inplace=True)\n",
    "\n",
    "### reducing fat content to only two categories \n",
    "train['Item_Fat_Content'] = train['Item_Fat_Content'].replace(['low fat','LF'], ['Low Fat','Low Fat']) \n",
    "train['Item_Fat_Content'] = train['Item_Fat_Content'].replace(['reg'], ['Regular']) \n",
    "test['Item_Fat_Content'] = test['Item_Fat_Content'].replace(['low fat','LF'], ['Low Fat','Low Fat']) \n",
    "test['Item_Fat_Content'] = test['Item_Fat_Content'].replace(['reg'], ['Regular'])\n",
    "\n",
    "## for calculating establishment year\n",
    "train['Outlet_Establishment_Year'] = 2013 - train['Outlet_Establishment_Year'] \n",
    "test['Outlet_Establishment_Year'] = 2013 - test['Outlet_Establishment_Year'] \n",
    "\n",
    "### missing values for size\n",
    "train['Outlet_Size'].fillna('Small',inplace=True)\n",
    "test['Outlet_Size'].fillna('Small',inplace=True)\n",
    "\n",
    "# Combine DataFrames using concat:\n",
    "combined_data = pd.concat([train, test], ignore_index=True)\n",
    "\n",
    "# Label encoding:\n",
    "number = LabelEncoder()\n",
    "for col in ['Outlet_Size', 'Outlet_Location_Type', 'Outlet_Type', 'Item_Fat_Content']:\n",
    "    combined_data[col] = number.fit_transform(combined_data[col].astype('str'))  # Correct indentation\n",
    "    combined_data[col] = combined_data[col].astype('int')\n",
    "\n",
    "# Separate back into train and test:\n",
    "train = combined_data[:train.shape[0]]\n",
    "test = combined_data[train.shape[0]:]\n",
    "\n",
    "# Drop temporary column in test:\n",
    "test.drop('Item_Outlet_Sales', axis=1, inplace=True)\n",
    "\n",
    "# Remove ID variables:\n",
    "training = train.drop(['Outlet_Identifier', 'Item_Type', 'Item_Identifier'], axis=1)\n",
    "testing = test.drop(['Outlet_Identifier', 'Item_Type', 'Item_Identifier'], axis=1)\n",
    "\n",
    "# Separate target variable:\n",
    "y_train = training['Item_Outlet_Sales']\n",
    "training.drop('Item_Outlet_Sales', axis=1, inplace=True)\n",
    "\n",
    "# Final feature and target variables:\n",
    "features = training.columns\n",
    "target = 'Item_Outlet_Sales'\n",
    "\n",
    "# Prepare input features for modeling:\n",
    "X_train, X_test = training, testing"
   ]
  },
  {
   "cell_type": "markdown",
   "metadata": {},
   "source": [
    "# Model exploration"
   ]
  },
  {
   "cell_type": "code",
   "execution_count": 4,
   "metadata": {},
   "outputs": [
    {
     "name": "stdout",
     "output_type": "stream",
     "text": [
      "Requirement already satisfied: xgboost in c:\\users\\ananabilla rizky m\\anaconda3\\lib\\site-packages (2.0.3)\n",
      "Requirement already satisfied: numpy in c:\\users\\ananabilla rizky m\\anaconda3\\lib\\site-packages (from xgboost) (1.26.4)\n",
      "Requirement already satisfied: scipy in c:\\users\\ananabilla rizky m\\anaconda3\\lib\\site-packages (from xgboost) (1.11.4)\n",
      "Note: you may need to restart the kernel to use updated packages.\n"
     ]
    }
   ],
   "source": [
    "pip install xgboost\n"
   ]
  },
  {
   "cell_type": "code",
   "execution_count": 5,
   "metadata": {},
   "outputs": [],
   "source": [
    "from xgboost import XGBRegressor\n",
    "from sklearn.linear_model import BayesianRidge, Ridge, ElasticNet\n",
    "from sklearn.neighbors import KNeighborsRegressor\n",
    "from sklearn.ensemble import RandomForestRegressor, ExtraTreesRegressor, GradientBoostingRegressor\n",
    "from sklearn.neural_network import MLPRegressor\n",
    "\n",
    "from sklearn.metrics import mean_squared_error\n",
    "from sklearn.model_selection import cross_val_score"
   ]
  },
  {
   "cell_type": "code",
   "execution_count": 6,
   "metadata": {},
   "outputs": [
    {
     "name": "stdout",
     "output_type": "stream",
     "text": [
      "RandomForestRegressor     CV-5 RMSE:  1149.02 (+/- 12299.90)\n",
      "XGBRegressor              CV-5 RMSE:  1194.03 (+/- 9844.93)\n",
      "Ridge                     CV-5 RMSE:  1206.41 (+/- 54020.12)\n",
      "BayesianRidge             CV-5 RMSE:  1206.56 (+/- 52695.34)\n",
      "ExtraTreesRegressor       CV-5 RMSE:  1195.49 (+/- 11453.36)\n",
      "ElasticNet                CV-5 RMSE:  1259.18 (+/- 89803.16)\n",
      "KNeighborsRegressor       CV-5 RMSE:  1245.71 (+/- 37275.84)\n",
      "GradientBoostingRegressor CV-5 RMSE:  1086.06 (+/- 19912.40)\n"
     ]
    }
   ],
   "source": [
    "model_factory = [\n",
    "    RandomForestRegressor(),\n",
    "    XGBRegressor(nthread=1),\n",
    "    #MLPRegressor(),\n",
    "    Ridge(),\n",
    "    BayesianRidge(),\n",
    "    ExtraTreesRegressor(),\n",
    "    ElasticNet(),\n",
    "    KNeighborsRegressor(),\n",
    "    GradientBoostingRegressor()\n",
    "]\n",
    "\n",
    "for model in model_factory:\n",
    "    model.seed = 42\n",
    "    num_folds = 3\n",
    "\n",
    "    scores = cross_val_score(model, X_train, y_train, cv=num_folds, scoring='neg_mean_squared_error')\n",
    "    score_description = \" %0.2f (+/- %0.2f)\" % (np.sqrt(scores.mean()*-1), scores.std() * 2)\n",
    "\n",
    "    print('{model:25} CV-5 RMSE: {score}'.format(\n",
    "        model=model.__class__.__name__,\n",
    "        score=score_description\n",
    "    ))"
   ]
  },
  {
   "cell_type": "code",
   "execution_count": 7,
   "metadata": {},
   "outputs": [
    {
     "data": {
      "text/plain": [
       "array([-1422865.06314891, -1432622.18419024, -1421608.73318773])"
      ]
     },
     "execution_count": 7,
     "metadata": {},
     "output_type": "execute_result"
    }
   ],
   "source": [
    "## normal submission using xgb\n",
    "model = XGBRegressor()\n",
    "model.fit(X_train,y_train)\n",
    "pred = model.predict(X_test)\n",
    "\n",
    "## saving file\n",
    "sub = pd.DataFrame(data = pred, columns=['Item_Outlet_Sales'])\n",
    "sub['Item_Identifier'] = test['Item_Identifier']\n",
    "sub['Outlet_Identifier'] = test['Outlet_Identifier']\n",
    "#sub.to_csv('bigmart-xgb.csv', index='False')\n",
    "\n",
    "cross_val_score(model, X_train, y_train, cv=num_folds, scoring='neg_mean_squared_error', n_jobs=8)"
   ]
  },
  {
   "cell_type": "markdown",
   "metadata": {},
   "source": [
    "Xgb gives us the best results. on submission it gives an rmse of 1152.73"
   ]
  },
  {
   "cell_type": "code",
   "execution_count": 8,
   "metadata": {},
   "outputs": [],
   "source": [
    "from sklearn.utils import shuffle\n",
    "from sklearn.base import BaseEstimator, RegressorMixin\n",
    "\n",
    "class PseudoLabeler(BaseEstimator, RegressorMixin):\n",
    "    '''\n",
    "    Sci-kit learn wrapper for creating pseudo-lebeled estimators.\n",
    "    '''\n",
    "    \n",
    "    def __init__(self, model, unlabled_data, features, target, sample_rate=0.2, seed=42):\n",
    "        '''\n",
    "        @sample_rate - percent of samples used as pseudo-labelled data\n",
    "                       from the unlabled dataset\n",
    "        '''\n",
    "        assert sample_rate <= 1.0, 'Sample_rate should be between 0.0 and 1.0.'\n",
    "        \n",
    "        self.sample_rate = sample_rate\n",
    "        self.seed = seed\n",
    "        self.model = model\n",
    "        self.model.seed = seed\n",
    "        \n",
    "        self.unlabled_data = unlabled_data\n",
    "        self.features = features\n",
    "        self.target = target\n",
    "        \n",
    "    def get_params(self, deep=True):\n",
    "        return {\n",
    "            \"sample_rate\": self.sample_rate,\n",
    "            \"seed\": self.seed,\n",
    "            \"model\": self.model,\n",
    "            \"unlabled_data\": self.unlabled_data,\n",
    "            \"features\": self.features,\n",
    "            \"target\": self.target\n",
    "        }\n",
    "\n",
    "    def set_params(self, **parameters):\n",
    "        for parameter, value in parameters.items():\n",
    "            setattr(self, parameter, value)\n",
    "        return self\n",
    "\n",
    "        \n",
    "    def fit(self, X, y):\n",
    "        '''\n",
    "        Fit the data using pseudo labeling.\n",
    "        '''\n",
    "\n",
    "        augemented_train = self.__create_augmented_train(X, y)\n",
    "        self.model.fit(\n",
    "            augemented_train[self.features],\n",
    "            augemented_train[self.target]\n",
    "        )\n",
    "        \n",
    "        return self\n",
    "\n",
    "\n",
    "    def __create_augmented_train(self, X, y):\n",
    "        '''\n",
    "        Create and return the augmented_train set that consists\n",
    "        of pseudo-labeled and labeled data.\n",
    "        '''        \n",
    "        num_of_samples = int(len(self.unlabled_data) * self.sample_rate)\n",
    "        \n",
    "        # Train the model and creat the pseudo-labels\n",
    "        self.model.fit(X, y)\n",
    "        pseudo_labels = self.model.predict(self.unlabled_data[self.features])\n",
    "        \n",
    "        # Add the pseudo-labels to the test set\n",
    "        pseudo_data = self.unlabled_data.copy(deep=True)\n",
    "        pseudo_data[self.target] = pseudo_labels\n",
    "        \n",
    "        # Take a subset of the test set with pseudo-labels and append in onto\n",
    "        # the training set\n",
    "        sampled_pseudo_data = pseudo_data.sample(n=num_of_samples)\n",
    "        temp_train = pd.concat([X, y], axis=1)\n",
    "        augemented_train = pd.concat([sampled_pseudo_data, temp_train])\n",
    "\n",
    "        return shuffle(augemented_train)\n",
    "        \n",
    "    def predict(self, X):\n",
    "        '''\n",
    "        Returns the predicted values.\n",
    "        '''\n",
    "        return self.model.predict(X)\n",
    "    \n",
    "    def get_model_name(self):\n",
    "        return self.model.__class__.__name__"
   ]
  },
  {
   "cell_type": "markdown",
   "metadata": {},
   "source": [
    "# Pseudo Labeler"
   ]
  },
  {
   "cell_type": "code",
   "execution_count": 9,
   "metadata": {},
   "outputs": [
    {
     "data": {
      "text/plain": [
       "array([-1419946.88274864, -1375682.12463297, -1376795.20551005])"
      ]
     },
     "execution_count": 9,
     "metadata": {},
     "output_type": "execute_result"
    }
   ],
   "source": [
    "model = PseudoLabeler(\n",
    "    XGBRegressor(nthread=1),\n",
    "    test,\n",
    "    features,\n",
    "    target,\n",
    "    sample_rate = 0.3\n",
    ")\n",
    "\n",
    "model.fit(X_train, y_train)\n",
    "pred = model.predict(X_test)\n",
    "cross_val_score(model, X_train, y_train, cv=num_folds, scoring='neg_mean_squared_error', n_jobs=8)"
   ]
  },
  {
   "cell_type": "code",
   "execution_count": 10,
   "metadata": {},
   "outputs": [],
   "source": [
    "sub = pd.DataFrame(data = pred, columns=['Item_Outlet_Sales'])\n",
    "sub['Item_Identifier'] = test['Item_Identifier']\n",
    "sub['Outlet_Identifier'] = test['Outlet_Identifier']\n",
    "sub.to_csv('pseudo-labelling.csv', index='False')"
   ]
  },
  {
   "cell_type": "markdown",
   "metadata": {},
   "source": [
    "On submission, it gives a rmse score of 1151.38 which is better than our previous xgb submission."
   ]
  },
  {
   "cell_type": "markdown",
   "metadata": {},
   "source": [
    "# Comparing xgboost with xgb with pseudo labelling"
   ]
  },
  {
   "cell_type": "code",
   "execution_count": 11,
   "metadata": {},
   "outputs": [
    {
     "name": "stdout",
     "output_type": "stream",
     "text": [
      "XGBRegressor              CV-8 MSE: 1183.6297 (+/- 156156.5398)\n",
      "PseudoLabeler             CV-8 MSE: 1166.7221 (+/- 97614.1184)\n"
     ]
    }
   ],
   "source": [
    "model_factory = [\n",
    "    XGBRegressor(nthread=1),\n",
    "    \n",
    "    PseudoLabeler(\n",
    "        XGBRegressor(nthread=1),\n",
    "        test,\n",
    "        features,\n",
    "        target,\n",
    "        sample_rate=0.3\n",
    "    ),\n",
    "]\n",
    "\n",
    "for model in model_factory:\n",
    "    model.seed = 42\n",
    "    num_folds = 8\n",
    "    \n",
    "    scores = cross_val_score(model, X_train, y_train, cv=num_folds, scoring='neg_mean_squared_error', n_jobs=8)\n",
    "    score_description = \"MSE: %0.4f (+/- %0.4f)\" % (np.sqrt(scores.mean()*-1), scores.std() * 2)\n",
    "\n",
    "    print('{model:25} CV-{num_folds} {score_cv}'.format(\n",
    "        model=model.__class__.__name__,\n",
    "        num_folds=num_folds,\n",
    "        score_cv=score_description\n",
    "    ))"
   ]
  },
  {
   "cell_type": "markdown",
   "metadata": {},
   "source": [
    "# Performance of pseudo-labelling depedendance on sampling rate"
   ]
  },
  {
   "cell_type": "code",
   "execution_count": 12,
   "metadata": {},
   "outputs": [
    {
     "name": "stdout",
     "output_type": "stream",
     "text": [
      "RandomForestRegressor\n"
     ]
    },
    {
     "name": "stdout",
     "output_type": "stream",
     "text": [
      "XGBRegressor\n"
     ]
    }
   ],
   "source": [
    "sample_rates = np.linspace(0, 1, 10)\n",
    "\n",
    "def pseudo_label_wrapper(model):\n",
    "    return PseudoLabeler(model, test, features, target)\n",
    "\n",
    "# List of all models to test\n",
    "model_factory = [\n",
    "    RandomForestRegressor(n_jobs=1),\n",
    "    XGBRegressor(),\n",
    "]\n",
    "\n",
    "# Apply the PseudoLabeler class to each model\n",
    "model_factory = map(pseudo_label_wrapper, model_factory)\n",
    "\n",
    "# Train each model with different sample rates\n",
    "results = {}\n",
    "num_folds = 5\n",
    "\n",
    "for model in model_factory:\n",
    "    model_name = model.get_model_name()\n",
    "    print('%s' % model_name)\n",
    "\n",
    "    results[model_name] = list()\n",
    "    for sample_rate in sample_rates:\n",
    "        model.sample_rate = sample_rate\n",
    "        \n",
    "        # Calculate the CV-3 R2 score and store it\n",
    "        scores = cross_val_score(model, X_train, y_train, cv=num_folds, scoring='neg_mean_squared_error', n_jobs=8)\n",
    "        results[model_name].append(np.sqrt(scores.mean()*-1))"
   ]
  },
  {
   "cell_type": "code",
   "execution_count": 13,
   "metadata": {},
   "outputs": [
    {
     "data": {
      "image/png": "[encoded data removed]",
      "text/plain": [
       "<Figure size 1600x1800 with 2 Axes>"
      ]
     },
     "metadata": {},
     "output_type": "display_data"
    }
   ],
   "source": [
    "plt.figure(figsize=(16, 18))\n",
    "\n",
    "i = 1\n",
    "for model_name, performance in results.items():    \n",
    "    plt.subplot(3, 3, i)\n",
    "    i += 1\n",
    "    \n",
    "    plt.plot(sample_rates, performance)\n",
    "    plt.title(model_name)\n",
    "    plt.xlabel('sample_rate')\n",
    "    plt.ylabel('RMSE')\n",
    "    \n",
    "\n",
    "plt.show()"
   ]
  },
  {
   "cell_type": "code",
   "execution_count": null,
   "metadata": {
    "collapsed": true
   },
   "outputs": [],
   "source": []
  }
 ],
 "metadata": {
  "kernelspec": {
   "display_name": "Python 3 (ipykernel)",
   "language": "python",
   "name": "python3"
  },
  "language_info": {
   "codemirror_mode": {
    "name": "ipython",
    "version": 3
   },
   "file_extension": ".py",
   "mimetype": "text/x-python",
   "name": "python",
   "nbconvert_exporter": "python",
   "pygments_lexer": "ipython3",
   "version": "3.11.7"
  }
 },
 "nbformat": 4,
 "nbformat_minor": 2
}
